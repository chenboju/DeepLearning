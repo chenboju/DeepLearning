{
  "nbformat": 4,
  "nbformat_minor": 0,
  "metadata": {
    "colab": {
      "provenance": [],
      "include_colab_link": true
    },
    "kernelspec": {
      "name": "python3",
      "display_name": "Python 3"
    },
    "language_info": {
      "name": "python"
    }
  },
  "cells": [
    {
      "cell_type": "markdown",
      "metadata": {
        "id": "view-in-github",
        "colab_type": "text"
      },
      "source": [
        "<a href=\"https://colab.research.google.com/github/chenboju/LLM/blob/main/12_svd.ipynb\" target=\"_parent\"><img src=\"https://colab.research.google.com/assets/colab-badge.svg\" alt=\"Open In Colab\"/></a>"
      ]
    },
    {
      "cell_type": "markdown",
      "source": [
        "# SVD奇異值分解(Singular Value Decomposition)\n",
        "- 利用分散式表示法來表示字詞，除了之前用統計機率方式計算的PMI之外，還可以利用矩陣方式計算的SVD\n",
        "- SVD是透過矩陣的奇異值分解成U、S、V三個矩陣，來找出字詞之間的高維隱含關係(U、S、V各代表字詞不同的隱含關係)\n",
        "- 本範例是計算PMI範例並進行SVD分解，然後畫出字詞U矩陣，讓同學了解字詞之間的關係"
      ],
      "metadata": {
        "id": "wtEEWCw9lYUo"
      }
    },
    {
      "cell_type": "code",
      "source": [
        "# Colab 進行matplotlib繪圖時顯示繁體中文\n",
        "# 下載台北思源黑體並命名taipei_sans_tc_beta.ttf，移至指定路徑\n",
        "!wget -O TaipeiSansTCBeta-Regular.ttf https://drive.google.com/uc?id=1eGAsTN1HBpJAkeVM57_C7ccp7hbgSz3_&export=download\n",
        "\n",
        "import matplotlib as mpl\n",
        "import matplotlib.pyplot as plt\n",
        "from matplotlib.font_manager import fontManager\n",
        "\n",
        "# 改style要在改font之前\n",
        "# plt.style.use('seaborn')\n",
        "\n",
        "fontManager.addfont('TaipeiSansTCBeta-Regular.ttf')\n",
        "mpl.rc('font', family='Taipei Sans TC Beta')"
      ],
      "metadata": {
        "colab": {
          "base_uri": "https://localhost:8080/"
        },
        "id": "kLdGAqbuf1Hg",
        "outputId": "be41e64c-e171-4766-8ae9-0d3ccff499d1"
      },
      "execution_count": 15,
      "outputs": [
        {
          "output_type": "stream",
          "name": "stdout",
          "text": [
            "--2023-12-27 05:09:36--  https://drive.google.com/uc?id=1eGAsTN1HBpJAkeVM57_C7ccp7hbgSz3_\n",
            "Resolving drive.google.com (drive.google.com)... 172.217.218.113, 172.217.218.100, 172.217.218.138, ...\n",
            "Connecting to drive.google.com (drive.google.com)|172.217.218.113|:443... connected.\n",
            "HTTP request sent, awaiting response... 303 See Other\n",
            "Location: https://doc-0k-9o-docs.googleusercontent.com/docs/securesc/ha0ro937gcuc7l7deffksulhg5h7mbp1/l458jqgmvpsg28o5cb9jo1q6draae0ru/1703653725000/02847987870453524430/*/1eGAsTN1HBpJAkeVM57_C7ccp7hbgSz3_?uuid=b67c3299-6150-4105-824d-b39a806d22de [following]\n",
            "Warning: wildcards not supported in HTTP.\n",
            "--2023-12-27 05:09:38--  https://doc-0k-9o-docs.googleusercontent.com/docs/securesc/ha0ro937gcuc7l7deffksulhg5h7mbp1/l458jqgmvpsg28o5cb9jo1q6draae0ru/1703653725000/02847987870453524430/*/1eGAsTN1HBpJAkeVM57_C7ccp7hbgSz3_?uuid=b67c3299-6150-4105-824d-b39a806d22de\n",
            "Resolving doc-0k-9o-docs.googleusercontent.com (doc-0k-9o-docs.googleusercontent.com)... 108.177.127.132, 2a00:1450:4013:c07::84\n",
            "Connecting to doc-0k-9o-docs.googleusercontent.com (doc-0k-9o-docs.googleusercontent.com)|108.177.127.132|:443... connected.\n",
            "HTTP request sent, awaiting response... 200 OK\n",
            "Length: 20659344 (20M) [application/x-font-ttf]\n",
            "Saving to: ‘TaipeiSansTCBeta-Regular.ttf’\n",
            "\n",
            "TaipeiSansTCBeta-Re 100%[===================>]  19.70M  --.-KB/s    in 0.09s   \n",
            "\n",
            "2023-12-27 05:09:38 (217 MB/s) - ‘TaipeiSansTCBeta-Regular.ttf’ saved [20659344/20659344]\n",
            "\n"
          ]
        }
      ]
    },
    {
      "cell_type": "code",
      "execution_count": 16,
      "metadata": {
        "id": "3VpwEfTN7Gjn",
        "outputId": "d6562a2b-c288-4483-d6c4-74c3610ceb7d",
        "colab": {
          "base_uri": "https://localhost:8080/",
          "height": 435
        }
      },
      "outputs": [
        {
          "output_type": "display_data",
          "data": {
            "text/plain": [
              "<Figure size 640x480 with 1 Axes>"
            ],
            "image/png": "[encoded data removed]"
          },
          "metadata": {}
        }
      ],
      "source": [
        "\n",
        "import numpy as np\n",
        "\n",
        "# 定義一個矩陣M，這是一個詞彙之間的關聯矩陣\n",
        "M = np.array([[0, 2, 1, 1, 1, 1, 1, 2, 1, 3],\n",
        "              [2, 0, 1, 1, 1, 0, 0, 1, 1, 2],\n",
        "              [1, 1, 0, 1, 1, 0, 0, 0, 0, 1],\n",
        "              [1, 1, 1, 0, 1, 0, 0, 0, 0, 1],\n",
        "              [1, 1, 1, 1, 0, 0, 0, 0, 0, 1],\n",
        "              [1, 0, 0, 0, 0, 0, 1, 1, 0, 1],\n",
        "              [1, 0, 0, 0, 0, 1, 0, 1, 0, 1],\n",
        "              [2, 1, 0, 0, 0, 1, 1, 0, 1, 2],\n",
        "              [1, 1, 0, 0, 0, 0, 0, 1, 0, 1],\n",
        "              [3, 2, 1, 1, 1, 1, 1, 2, 1, 0]])\n",
        "\n",
        "# 定義PMI計算函數\n",
        "def pmi(M, positive=True):\n",
        "    col_totals = M.sum(axis=0)\n",
        "    row_totals = M.sum(axis=1)\n",
        "    total = col_totals.sum()\n",
        "    expected = np.outer(row_totals, col_totals) / total\n",
        "    M = M / expected\n",
        "    # 壓制有關log(0)的令人分心的警告：\n",
        "    with np.errstate(divide='ignore'):\n",
        "        M = np.log(M)\n",
        "    M[np.isinf(M)] = 0.0  # log(0) = 0\n",
        "    if positive:\n",
        "        M[M < 0] = 0.0\n",
        "    return M\n",
        "\n",
        "# 對矩陣M應用PMI轉換\n",
        "M_pmi = pmi(M)\n",
        "\n",
        "# 設定打印精度\n",
        "np.set_printoptions(precision=2)\n",
        "\n",
        "# 對PMI轉換後的矩陣進行奇異值分解（SVD）\n",
        "U, s, Vh = np.linalg.svd(M_pmi)\n",
        "\n",
        "# 導入matplotlib進行數據可視化\n",
        "import matplotlib.pyplot as plt\n",
        "plt.rcParams['font.sans-serif'] = ['Arial Unicode MS']\n",
        "\n",
        "# 要顯示的詞彙\n",
        "words = [\"我\", \"喜歡\", \"自然\", \"語言\", \"處理\", \"愛\", \"深度\", \"學習\", \"機器\", \"。\"]\n",
        "\n",
        "# 在2D空間中基於前兩個奇異向量（U矩陣）繪製詞彙\n",
        "for i in range(len(words)):\n",
        "    plt.text(U[i, 0], U[i, 1], words[i])\n",
        "plt.xlim(0, 0.6)\n",
        "plt.ylim(-0.5, 0.6)\n",
        "\n",
        "# 顯示繪圖\n",
        "plt.show()\n"
      ]
    }
  ]
}