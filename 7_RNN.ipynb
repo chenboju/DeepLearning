{
  "nbformat": 4,
  "nbformat_minor": 0,
  "metadata": {
    "colab": {
      "provenance": [],
      "include_colab_link": true
    },
    "kernelspec": {
      "name": "python3",
      "display_name": "Python 3"
    },
    "language_info": {
      "name": "python"
    },
    "accelerator": "GPU",
    "gpuClass": "standard"
  },
  "cells": [
    {
      "cell_type": "markdown",
      "metadata": {
        "id": "view-in-github",
        "colab_type": "text"
      },
      "source": [
        "<a href=\"https://colab.research.google.com/github/chenboju/DeepLearning/blob/main/7_RNN.ipynb\" target=\"_parent\"><img src=\"https://colab.research.google.com/assets/colab-badge.svg\" alt=\"Open In Colab\"/></a>"
      ]
    },
    {
      "cell_type": "code",
      "source": [
        "!wget https://github.com/shhuangmust/AI/raw/111-2/Google_Stock_Price_Train.csv\n",
        "!wget https://github.com/shhuangmust/AI/raw/111-2/Google_Stock_Price_Test.csv"
      ],
      "metadata": {
        "colab": {
          "base_uri": "https://localhost:8080/"
        },
        "id": "Zs53bM-gKOsc",
        "outputId": "a2d815bc-af55-438b-a6e1-59db91e7353f"
      },
      "execution_count": 1,
      "outputs": [
        {
          "output_type": "stream",
          "name": "stdout",
          "text": [
            "--2023-10-20 06:10:37--  https://github.com/shhuangmust/AI/raw/111-2/Google_Stock_Price_Train.csv\n",
            "Resolving github.com (github.com)... 192.30.255.113\n",
            "Connecting to github.com (github.com)|192.30.255.113|:443... connected.\n",
            "HTTP request sent, awaiting response... 302 Found\n",
            "Location: https://raw.githubusercontent.com/shhuangmust/AI/111-2/Google_Stock_Price_Train.csv [following]\n",
            "--2023-10-20 06:10:37--  https://raw.githubusercontent.com/shhuangmust/AI/111-2/Google_Stock_Price_Train.csv\n",
            "Resolving raw.githubusercontent.com (raw.githubusercontent.com)... 185.199.110.133, 185.199.108.133, 185.199.111.133, ...\n",
            "Connecting to raw.githubusercontent.com (raw.githubusercontent.com)|185.199.110.133|:443... connected.\n",
            "HTTP request sent, awaiting response... 200 OK\n",
            "Length: 63488 (62K) [text/plain]\n",
            "Saving to: ‘Google_Stock_Price_Train.csv’\n",
            "\n",
            "Google_Stock_Price_ 100%[===================>]  62.00K  --.-KB/s    in 0.01s   \n",
            "\n",
            "2023-10-20 06:10:37 (5.11 MB/s) - ‘Google_Stock_Price_Train.csv’ saved [63488/63488]\n",
            "\n",
            "--2023-10-20 06:10:37--  https://github.com/shhuangmust/AI/raw/111-2/Google_Stock_Price_Test.csv\n",
            "Resolving github.com (github.com)... 192.30.255.112\n",
            "Connecting to github.com (github.com)|192.30.255.112|:443... connected.\n",
            "HTTP request sent, awaiting response... 302 Found\n",
            "Location: https://raw.githubusercontent.com/shhuangmust/AI/111-2/Google_Stock_Price_Test.csv [following]\n",
            "--2023-10-20 06:10:37--  https://raw.githubusercontent.com/shhuangmust/AI/111-2/Google_Stock_Price_Test.csv\n",
            "Resolving raw.githubusercontent.com (raw.githubusercontent.com)... 185.199.108.133, 185.199.109.133, 185.199.110.133, ...\n",
            "Connecting to raw.githubusercontent.com (raw.githubusercontent.com)|185.199.108.133|:443... connected.\n",
            "HTTP request sent, awaiting response... 200 OK\n",
            "Length: 1029 (1.0K) [text/plain]\n",
            "Saving to: ‘Google_Stock_Price_Test.csv’\n",
            "\n",
            "Google_Stock_Price_ 100%[===================>]   1.00K  --.-KB/s    in 0s      \n",
            "\n",
            "2023-10-20 06:10:38 (56.7 MB/s) - ‘Google_Stock_Price_Test.csv’ saved [1029/1029]\n",
            "\n"
          ]
        }
      ]
    },
    {
      "cell_type": "code",
      "execution_count": 2,
      "metadata": {
        "id": "iEPIpx_NI7U_"
      },
      "outputs": [],
      "source": [
        "# Import the libraries\n",
        "import numpy as np\n",
        "import matplotlib.pyplot as plt  # for 畫圖用\n",
        "import pandas as pd\n",
        "\n",
        "# Import the training set\n",
        "dataset_train = pd.read_csv('Google_Stock_Price_Train.csv')  # 讀取訓練集\n",
        "training_set = dataset_train.iloc[:, 1:2].values  # 取「Open」欄位值\n",
        "\n",
        "# Feature Scaling\n",
        "from sklearn.preprocessing import MinMaxScaler\n",
        "\n",
        "sc = MinMaxScaler(feature_range = (0, 1))\n",
        "training_set_scaled = sc.fit_transform(training_set)\n",
        "\n",
        "X_train = []   #預測點的前 60 天的資料\n",
        "y_train = []   #預測點\n",
        "for i in range(60, 1258):  # 1258 是訓練集總數\n",
        "    X_train.append(training_set_scaled[i-60:i, 0])\n",
        "    y_train.append(training_set_scaled[i, 0])\n",
        "X_train, y_train = np.array(X_train), np.array(y_train)  # 轉成numpy array的格式，以利輸入 RNN\n",
        "\n",
        "X_train = np.reshape(X_train, (X_train.shape[0], X_train.shape[1], 1))"
      ]
    },
    {
      "cell_type": "code",
      "source": [
        "# Import the Keras libraries and packages\n",
        "from keras.models import Sequential #層數一層一層疊\n",
        "from keras.layers import Dense  #全連結層\n",
        "from keras.layers import LSTM\n",
        "from keras.layers import Dropout #拋棄多少\n",
        "\n",
        "# Initialising the RNN\n",
        "regressor = Sequential()\n",
        "# Adding the first LSTM layer and some Dropout regularisation\n",
        "regressor.add(LSTM(units = 50, return_sequences = True, input_shape = (X_train.shape[1], 1)))\n",
        "regressor.add(Dropout(0.2))\n",
        "\n",
        "# Adding a second LSTM layer and some Dropout regularisation\n",
        "regressor.add(LSTM(units = 50, return_sequences = True))\n",
        "regressor.add(Dropout(0.2))\n",
        "\n",
        "# Adding a third LSTM layer and some Dropout regularisation\n",
        "regressor.add(LSTM(units = 50, return_sequences = True))\n",
        "regressor.add(Dropout(0.2))\n",
        "\n",
        "# Adding a fourth LSTM layer and some Dropout regularisation\n",
        "regressor.add(LSTM(units = 50))\n",
        "regressor.add(Dropout(0.2))\n",
        "# Adding the output layer\n",
        "regressor.add(Dense(units = 1))\n",
        "# Compiling\n",
        "regressor.compile(optimizer = 'adam', loss = 'mean_squared_error')\n",
        "\n",
        "# 進行訓練\n",
        "regressor.fit(X_train, y_train, epochs = 65, batch_size = 16)"
      ],
      "metadata": {
        "colab": {
          "base_uri": "https://localhost:8080/"
        },
        "id": "6bn2CHbZJMPm",
        "outputId": "589ec1be-51a6-4ab9-89fe-ac29b6f3270e"
      },
      "execution_count": 6,
      "outputs": [
        {
          "output_type": "stream",
          "name": "stdout",
          "text": [
            "Epoch 1/65\n",
            "75/75 [==============================] - 8s 13ms/step - loss: 0.0219\n",
            "Epoch 2/65\n",
            "75/75 [==============================] - 1s 13ms/step - loss: 0.0057\n",
            "Epoch 3/65\n",
            "75/75 [==============================] - 1s 13ms/step - loss: 0.0050\n",
            "Epoch 4/65\n",
            "75/75 [==============================] - 1s 19ms/step - loss: 0.0052\n",
            "Epoch 5/65\n",
            "75/75 [==============================] - 1s 16ms/step - loss: 0.0051\n",
            "Epoch 6/65\n",
            "75/75 [==============================] - 1s 13ms/step - loss: 0.0043\n",
            "Epoch 7/65\n",
            "75/75 [==============================] - 1s 13ms/step - loss: 0.0040\n",
            "Epoch 8/65\n",
            "75/75 [==============================] - 1s 13ms/step - loss: 0.0041\n",
            "Epoch 9/65\n",
            "75/75 [==============================] - 1s 13ms/step - loss: 0.0045\n",
            "Epoch 10/65\n",
            "75/75 [==============================] - 1s 13ms/step - loss: 0.0035\n",
            "Epoch 11/65\n",
            "75/75 [==============================] - 1s 13ms/step - loss: 0.0040\n",
            "Epoch 12/65\n",
            "75/75 [==============================] - 1s 13ms/step - loss: 0.0035\n",
            "Epoch 13/65\n",
            "75/75 [==============================] - 1s 13ms/step - loss: 0.0033\n",
            "Epoch 14/65\n",
            "75/75 [==============================] - 1s 13ms/step - loss: 0.0033\n",
            "Epoch 15/65\n",
            "75/75 [==============================] - 1s 15ms/step - loss: 0.0032\n",
            "Epoch 16/65\n",
            "75/75 [==============================] - 1s 18ms/step - loss: 0.0033\n",
            "Epoch 17/65\n",
            "75/75 [==============================] - 1s 14ms/step - loss: 0.0029\n",
            "Epoch 18/65\n",
            "75/75 [==============================] - 1s 13ms/step - loss: 0.0031\n",
            "Epoch 19/65\n",
            "75/75 [==============================] - 1s 13ms/step - loss: 0.0027\n",
            "Epoch 20/65\n",
            "75/75 [==============================] - 1s 13ms/step - loss: 0.0031\n",
            "Epoch 21/65\n",
            "75/75 [==============================] - 1s 13ms/step - loss: 0.0029\n",
            "Epoch 22/65\n",
            "75/75 [==============================] - 1s 13ms/step - loss: 0.0026\n",
            "Epoch 23/65\n",
            "75/75 [==============================] - 1s 13ms/step - loss: 0.0028\n",
            "Epoch 24/65\n",
            "75/75 [==============================] - 1s 13ms/step - loss: 0.0027\n",
            "Epoch 25/65\n",
            "75/75 [==============================] - 1s 13ms/step - loss: 0.0027\n",
            "Epoch 26/65\n",
            "75/75 [==============================] - 1s 12ms/step - loss: 0.0025\n",
            "Epoch 27/65\n",
            "75/75 [==============================] - 1s 14ms/step - loss: 0.0026\n",
            "Epoch 28/65\n",
            "75/75 [==============================] - 1s 18ms/step - loss: 0.0024\n",
            "Epoch 29/65\n",
            "75/75 [==============================] - 1s 16ms/step - loss: 0.0025\n",
            "Epoch 30/65\n",
            "75/75 [==============================] - 1s 17ms/step - loss: 0.0023\n",
            "Epoch 31/65\n",
            "75/75 [==============================] - 1s 13ms/step - loss: 0.0026\n",
            "Epoch 32/65\n",
            "75/75 [==============================] - 1s 13ms/step - loss: 0.0022\n",
            "Epoch 33/65\n",
            "75/75 [==============================] - 1s 13ms/step - loss: 0.0025\n",
            "Epoch 34/65\n",
            "75/75 [==============================] - 1s 13ms/step - loss: 0.0023\n",
            "Epoch 35/65\n",
            "75/75 [==============================] - 1s 12ms/step - loss: 0.0020\n",
            "Epoch 36/65\n",
            "75/75 [==============================] - 1s 13ms/step - loss: 0.0020\n",
            "Epoch 37/65\n",
            "75/75 [==============================] - 1s 13ms/step - loss: 0.0023\n",
            "Epoch 38/65\n",
            "75/75 [==============================] - 1s 13ms/step - loss: 0.0020\n",
            "Epoch 39/65\n",
            "75/75 [==============================] - 1s 18ms/step - loss: 0.0019\n",
            "Epoch 40/65\n",
            "75/75 [==============================] - 1s 18ms/step - loss: 0.0021\n",
            "Epoch 41/65\n",
            "75/75 [==============================] - 1s 13ms/step - loss: 0.0020\n",
            "Epoch 42/65\n",
            "75/75 [==============================] - 1s 13ms/step - loss: 0.0018\n",
            "Epoch 43/65\n",
            "75/75 [==============================] - 1s 13ms/step - loss: 0.0019\n",
            "Epoch 44/65\n",
            "75/75 [==============================] - 1s 13ms/step - loss: 0.0019\n",
            "Epoch 45/65\n",
            "75/75 [==============================] - 1s 13ms/step - loss: 0.0018\n",
            "Epoch 46/65\n",
            "75/75 [==============================] - 1s 13ms/step - loss: 0.0019\n",
            "Epoch 47/65\n",
            "75/75 [==============================] - 1s 13ms/step - loss: 0.0018\n",
            "Epoch 48/65\n",
            "75/75 [==============================] - 1s 13ms/step - loss: 0.0018\n",
            "Epoch 49/65\n",
            "75/75 [==============================] - 1s 13ms/step - loss: 0.0016\n",
            "Epoch 50/65\n",
            "75/75 [==============================] - 1s 13ms/step - loss: 0.0017\n",
            "Epoch 51/65\n",
            "75/75 [==============================] - 1s 18ms/step - loss: 0.0017\n",
            "Epoch 52/65\n",
            "75/75 [==============================] - 1s 17ms/step - loss: 0.0016\n",
            "Epoch 53/65\n",
            "75/75 [==============================] - 1s 13ms/step - loss: 0.0017\n",
            "Epoch 54/65\n",
            "75/75 [==============================] - 1s 13ms/step - loss: 0.0016\n",
            "Epoch 55/65\n",
            "75/75 [==============================] - 1s 18ms/step - loss: 0.0018\n",
            "Epoch 56/65\n",
            "75/75 [==============================] - 1s 13ms/step - loss: 0.0017\n",
            "Epoch 57/65\n",
            "75/75 [==============================] - 1s 13ms/step - loss: 0.0017\n",
            "Epoch 58/65\n",
            "75/75 [==============================] - 1s 13ms/step - loss: 0.0015\n",
            "Epoch 59/65\n",
            "75/75 [==============================] - 1s 13ms/step - loss: 0.0016\n",
            "Epoch 60/65\n",
            "75/75 [==============================] - 1s 13ms/step - loss: 0.0016\n",
            "Epoch 61/65\n",
            "75/75 [==============================] - 1s 13ms/step - loss: 0.0016\n",
            "Epoch 62/65\n",
            "75/75 [==============================] - 1s 16ms/step - loss: 0.0015\n",
            "Epoch 63/65\n",
            "75/75 [==============================] - 1s 19ms/step - loss: 0.0018\n",
            "Epoch 64/65\n",
            "75/75 [==============================] - 1s 13ms/step - loss: 0.0017\n",
            "Epoch 65/65\n",
            "75/75 [==============================] - 1s 14ms/step - loss: 0.0013\n"
          ]
        },
        {
          "output_type": "execute_result",
          "data": {
            "text/plain": [
              "<keras.src.callbacks.History at 0x7e675064b310>"
            ]
          },
          "metadata": {},
          "execution_count": 6
        }
      ]
    },
    {
      "cell_type": "code",
      "source": [
        "dataset_test = pd.read_csv('Google_Stock_Price_Test.csv')\n",
        "real_stock_price = dataset_test.iloc[:, 1:2].values\n",
        "dataset_total = pd.concat((dataset_train['Open'], dataset_test['Open']), axis = 0)\n",
        "inputs = dataset_total[len(dataset_total) - len(dataset_test) - 60:].values\n",
        "inputs = inputs.reshape(-1,1)\n",
        "inputs = sc.transform(inputs) # Feature Scaling\n",
        "\n",
        "X_test = []\n",
        "for i in range(60, 80):  # timesteps一樣60； 80 = 先前的60天資料+2017年的20天資料\n",
        "    X_test.append(inputs[i-60:i, 0])\n",
        "X_test = np.array(X_test)\n",
        "X_test = np.reshape(X_test, (X_test.shape[0], X_test.shape[1], 1))  # Reshape 成 3-dimension\n",
        "predicted_stock_price = regressor.predict(X_test)\n",
        "predicted_stock_price = sc.inverse_transform(predicted_stock_price)  # to get the original scale\n"
      ],
      "metadata": {
        "colab": {
          "base_uri": "https://localhost:8080/"
        },
        "id": "wqYjyW78JUgQ",
        "outputId": "0bf899e9-3889-41d6-a3e0-fbef270aed76"
      },
      "execution_count": 7,
      "outputs": [
        {
          "output_type": "stream",
          "name": "stdout",
          "text": [
            "1/1 [==============================] - 1s 1s/step\n"
          ]
        }
      ]
    },
    {
      "cell_type": "code",
      "source": [
        "# Visualising the results\n",
        "plt.plot(real_stock_price, color = 'red', label = 'Real Google Stock Price')  # 紅線表示真實股價\n",
        "plt.plot(predicted_stock_price, color = 'blue', label = 'Predicted Google Stock Price')  # 藍線表示預測股價\n",
        "plt.title('Google Stock Price Prediction')\n",
        "plt.xlabel('Time')\n",
        "plt.ylabel('Google Stock Price')\n",
        "plt.legend()\n",
        "plt.show()"
      ],
      "metadata": {
        "colab": {
          "base_uri": "https://localhost:8080/",
          "height": 472
        },
        "id": "IySVvld_JbFz",
        "outputId": "0c5fc990-22ea-457e-905f-a85c51487549"
      },
      "execution_count": 9,
      "outputs": [
        {
          "output_type": "display_data",
          "data": {
            "text/plain": [
              "<Figure size 640x480 with 1 Axes>"
            ],
            "image/png": "[encoded data removed]"
          },
          "metadata": {}
        }
      ]
    }
  ]
}